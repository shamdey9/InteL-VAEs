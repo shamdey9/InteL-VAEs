{
 "cells": [
  {
   "cell_type": "code",
   "execution_count": 1,
   "metadata": {},
   "outputs": [],
   "source": [
    "import numpy as np"
   ]
  },
  {
   "cell_type": "code",
   "execution_count": 2,
   "metadata": {},
   "outputs": [],
   "source": [
    "import tensorflow as tf\n",
    "from tensorflow.keras import Model\n",
    "import matplotlib.pyplot as plt\n"
   ]
  },
  {
   "cell_type": "code",
   "execution_count": 3,
   "metadata": {},
   "outputs": [],
   "source": [
    "def transform(sample):\n",
    "    #Cluster number: 2\n",
    "    return tf.stack([tf.cast(tf.math.sign(sample[:,0]), tf.float32)*tf.abs(sample[:,0])**0.2*5+sample[:,0], sample[:,1]], axis=1)\n",
    "    #return tf.stack([sample[:,1], tf.cast(tf.math.sign(sample[:,0]), tf.float32)+sample[:,0]], axis=1)\n",
    "    #return tf.stack([sample[:,0], tf.cast(tf.math.sign(sample[:,1]), tf.float32)+sample[:,1]], axis=1)\n",
    "\n"
   ]
  },
  {
   "cell_type": "code",
   "execution_count": 4,
   "metadata": {},
   "outputs": [],
   "source": [
    "x_size=2\n",
    "z_size=2\n",
    "mapping=False\n",
    "\n",
    "Vamp=False\n",
    "Vamp_input_num=10 #!\n",
    "\n",
    "class coder(Model):\n",
    "    def __init__(self, output_size, transform=None):\n",
    "        super(coder, self).__init__()\n",
    "        self.d1 = tf.keras.layers.Dense(10, activation='relu')\n",
    "        self.d2 = tf.keras.layers.Dense(10, activation='relu')\n",
    "        self.d3 = tf.keras.layers.Dense(output_size*2, activation=None)\n",
    "        self.transform=transform\n",
    "\n",
    "    def call(self, x):\n",
    "        if self.transform:\n",
    "            x = self.transform(x)\n",
    "        x = self.d1(x)\n",
    "        x = self.d2(x)\n",
    "        x = self.d3(x)\n",
    "        return x\n",
    "\n",
    "encoder = coder(z_size)\n",
    "if mapping:\n",
    "    decoder = coder(x_size, transform=transform)\n",
    "else:\n",
    "    decoder = coder(x_size, transform=None)"
   ]
  },
  {
   "cell_type": "code",
   "execution_count": 5,
   "metadata": {},
   "outputs": [],
   "source": [
    "def logsumexp(x, axis=-1):\n",
    "    x_max=tf.reduce_max(x, axis=axis, keepdims=True)\n",
    "    x-=x_max\n",
    "    x_exp=tf.exp(x)\n",
    "    x_exp_mean=tf.reduce_sum(x_exp, axis=axis)\n",
    "    x_exp_mean_log=tf.math.log(x_exp_mean)+tf.squeeze(x_max, axis=-1)\n",
    "    return x_exp_mean_log\n",
    "def logmeanexp(x, axis=-1):\n",
    "    return logsumexp(x, axis=axis)-tf.math.log(float(x.shape[axis]))"
   ]
  },
  {
   "cell_type": "code",
   "execution_count": 6,
   "metadata": {},
   "outputs": [],
   "source": [
    "def logP_MoG(x, mean, log_var):\n",
    "    x=tf.expand_dims(x, 1)\n",
    "    mean=tf.expand_dims(mean, 0)\n",
    "    log_var=tf.expand_dims(log_var, 0)\n",
    "    logP_component_dim=-np.log(2*np.pi)/2-log_var/2-(x-mean)**2/(2*tf.exp(log_var))\n",
    "    logP_component=tf.reduce_sum(logP_component_dim, axis=-1)\n",
    "    #P_component=tf.exp(logP_component)\n",
    "    #P=tf.reduce_mean(P_component, axis=-1)\n",
    "    #logP=tf.math.log(P)\n",
    "    logP=logmeanexp(logP_component, axis=-1)\n",
    "    return logP"
   ]
  },
  {
   "cell_type": "code",
   "execution_count": 7,
   "metadata": {},
   "outputs": [],
   "source": [
    "if Vamp:\n",
    "    initial_value=np.random.normal(0,1,[Vamp_input_num, x_size]).astype(np.float32)\n",
    "    pseduo_input=tf.Variable(initial_value=initial_value, dtype=tf.float32)"
   ]
  },
  {
   "cell_type": "code",
   "execution_count": 8,
   "metadata": {},
   "outputs": [],
   "source": [
    "optimizer = tf.keras.optimizers.Adam()\n",
    "reconstruction_logprob_record = tf.keras.metrics.Mean(name='reconstruction')\n",
    "KL_term_record = tf.keras.metrics.Mean(name='KL')\n",
    "ELBO_record = tf.keras.metrics.Mean(name='ELBO')\n",
    "\n",
    "def sample(mean, log_var):\n",
    "    batch = tf.shape(mean)[0]\n",
    "    dim = tf.shape(mean)[1]\n",
    "    epsilon = tf.keras.backend.random_normal(shape=(batch, dim))\n",
    "    return mean + tf.exp(0.5 * log_var) * epsilon\n",
    "    \n",
    "def reconstruction_logprob(x, x_mean, x_log_var):\n",
    "    dim = tf.shape(x)[1]\n",
    "    return -tf.cast(dim, tf.float32)*0.5*(tf.math.log(2.0*np.pi)+tf.reduce_sum(x_log_var, axis=1))-0.5*tf.reduce_sum((x-x_mean)**2*tf.exp(-x_log_var), axis=1)\n",
    "\n",
    "def KL_term(mean_1, log_var_1, mean_2, log_var_2):\n",
    "    dim_KL = 0.5*(log_var_2-log_var_1)+(tf.exp(log_var_1)+(mean_1-mean_2)**2)/(2*tf.exp(log_var_2))-0.5\n",
    "    return tf.reduce_sum(dim_KL, axis=1)\n",
    "\n",
    "@tf.function\n",
    "def train_step(x, beta=1e-7, test=False): #!\n",
    "    with tf.GradientTape() as tape:\n",
    "        z_x_info = encoder(x)\n",
    "        z_x_mean=z_x_info[:,:z_size]\n",
    "        z_x_log_var=z_x_info[:,z_size:]\n",
    "        z_sample=sample(z_x_mean, z_x_log_var)\n",
    "        x_z_info=decoder(z_sample)\n",
    "        x_z_mean=x_z_info[:,:x_size]\n",
    "        x_z_log_var=x_z_info[:,x_size:]\n",
    "        reconstruction_logprob_0=tf.reduce_mean(reconstruction_logprob(x, x_z_mean, x_z_log_var))\n",
    "        \n",
    "        if not Vamp:\n",
    "            KL_term_0=tf.reduce_mean(KL_term(z_x_mean, z_x_log_var, z_x_mean*0, z_x_log_var*0+1))\n",
    "            \n",
    "            #logQ = reconstruction_logprob(z_sample, z_x_mean, z_x_log_var)\n",
    "            #logP = logP_MoG(z_sample, z_sample[0:1]*0, z_sample[0:1]*0)\n",
    "            #logP = log_normal_pdf(z_sample, z_sample*0, z_sample*0)\n",
    "            \n",
    "            #KL_term_0 = tf.reduce_mean(logQ-logP)\n",
    "        \n",
    "        else:\n",
    "            pseduo_z_x_info = encoder(pseduo_input)\n",
    "            pseduo_z_x_mean = pseduo_z_x_info[:,:z_size]\n",
    "            pseduo_z_x_log_var = pseduo_z_x_info[:,z_size:]\n",
    "            #pseduo_z_x_mean = pseduo_z_x_info[0:1,:z_size] #!\n",
    "            #pseduo_z_x_log_var =pseduo_z_x_info[0:1,:z_size] #!\n",
    "            logQ = reconstruction_logprob(z_sample, z_x_mean, z_x_log_var)\n",
    "            logP = logP_MoG(z_sample, pseduo_z_x_mean, pseduo_z_x_log_var)\n",
    "            KL_term_0 = tf.reduce_mean(logQ-logP) ##Problem here\n",
    "        \n",
    "        gain = reconstruction_logprob_0 - KL_term_0*beta\n",
    "        loss = -gain\n",
    "    if not test:\n",
    "        trainable_variables=encoder.trainable_variables+decoder.trainable_variables\n",
    "        if Vamp:\n",
    "            trainable_variables.append(pseduo_input)\n",
    "        gradients = tape.gradient(loss, trainable_variables)\n",
    "        \n",
    "        optimizer.apply_gradients(zip(gradients, trainable_variables))\n",
    "\n",
    "    reconstruction_logprob_record(reconstruction_logprob_0)\n",
    "    KL_term_record(KL_term_0)\n",
    "    ELBO_record(gain)"
   ]
  },
  {
   "cell_type": "code",
   "execution_count": 9,
   "metadata": {},
   "outputs": [
    {
     "ename": "FileNotFoundError",
     "evalue": "[Errno 2] No such file or directory: 'figure/MoG_real.png'",
     "output_type": "error",
     "traceback": [
      "\u001b[1;31m---------------------------------------------------------------------------\u001b[0m",
      "\u001b[1;31mFileNotFoundError\u001b[0m                         Traceback (most recent call last)",
      "\u001b[1;32mc:\\Users\\pande\\Documents\\643_hw\\InteL-VAEs\\my_own\\InteL-VAEs\\multi-modal_low_dim.ipynb Cell 9\u001b[0m line \u001b[0;36m4\n\u001b[0;32m     <a href='vscode-notebook-cell:/c%3A/Users/pande/Documents/643_hw/InteL-VAEs/my_own/InteL-VAEs/multi-modal_low_dim.ipynb#X11sZmlsZQ%3D%3D?line=38'>39</a>\u001b[0m plt\u001b[39m.\u001b[39mxticks([])\n\u001b[0;32m     <a href='vscode-notebook-cell:/c%3A/Users/pande/Documents/643_hw/InteL-VAEs/my_own/InteL-VAEs/multi-modal_low_dim.ipynb#X11sZmlsZQ%3D%3D?line=39'>40</a>\u001b[0m plt\u001b[39m.\u001b[39myticks([])\n\u001b[1;32m---> <a href='vscode-notebook-cell:/c%3A/Users/pande/Documents/643_hw/InteL-VAEs/my_own/InteL-VAEs/multi-modal_low_dim.ipynb#X11sZmlsZQ%3D%3D?line=40'>41</a>\u001b[0m fig\u001b[39m.\u001b[39;49msavefig(\u001b[39m'\u001b[39;49m\u001b[39mfigure/MoG_real.png\u001b[39;49m\u001b[39m'\u001b[39;49m, bbox_inches \u001b[39m=\u001b[39;49m \u001b[39m'\u001b[39;49m\u001b[39mtight\u001b[39;49m\u001b[39m'\u001b[39;49m,\n\u001b[0;32m     <a href='vscode-notebook-cell:/c%3A/Users/pande/Documents/643_hw/InteL-VAEs/my_own/InteL-VAEs/multi-modal_low_dim.ipynb#X11sZmlsZQ%3D%3D?line=41'>42</a>\u001b[0m     pad_inches \u001b[39m=\u001b[39;49m \u001b[39m0\u001b[39;49m) \u001b[39m#!\u001b[39;00m\n",
      "File \u001b[1;32mc:\\Users\\pande\\anaconda3\\envs\\tensorflow\\Lib\\site-packages\\matplotlib\\figure.py:3378\u001b[0m, in \u001b[0;36mFigure.savefig\u001b[1;34m(self, fname, transparent, **kwargs)\u001b[0m\n\u001b[0;32m   3374\u001b[0m     \u001b[39mfor\u001b[39;00m ax \u001b[39min\u001b[39;00m \u001b[39mself\u001b[39m\u001b[39m.\u001b[39maxes:\n\u001b[0;32m   3375\u001b[0m         stack\u001b[39m.\u001b[39menter_context(\n\u001b[0;32m   3376\u001b[0m             ax\u001b[39m.\u001b[39mpatch\u001b[39m.\u001b[39m_cm_set(facecolor\u001b[39m=\u001b[39m\u001b[39m'\u001b[39m\u001b[39mnone\u001b[39m\u001b[39m'\u001b[39m, edgecolor\u001b[39m=\u001b[39m\u001b[39m'\u001b[39m\u001b[39mnone\u001b[39m\u001b[39m'\u001b[39m))\n\u001b[1;32m-> 3378\u001b[0m \u001b[39mself\u001b[39;49m\u001b[39m.\u001b[39;49mcanvas\u001b[39m.\u001b[39;49mprint_figure(fname, \u001b[39m*\u001b[39;49m\u001b[39m*\u001b[39;49mkwargs)\n",
      "File \u001b[1;32mc:\\Users\\pande\\anaconda3\\envs\\tensorflow\\Lib\\site-packages\\matplotlib\\backend_bases.py:2366\u001b[0m, in \u001b[0;36mFigureCanvasBase.print_figure\u001b[1;34m(self, filename, dpi, facecolor, edgecolor, orientation, format, bbox_inches, pad_inches, bbox_extra_artists, backend, **kwargs)\u001b[0m\n\u001b[0;32m   2362\u001b[0m \u001b[39mtry\u001b[39;00m:\n\u001b[0;32m   2363\u001b[0m     \u001b[39m# _get_renderer may change the figure dpi (as vector formats\u001b[39;00m\n\u001b[0;32m   2364\u001b[0m     \u001b[39m# force the figure dpi to 72), so we need to set it again here.\u001b[39;00m\n\u001b[0;32m   2365\u001b[0m     \u001b[39mwith\u001b[39;00m cbook\u001b[39m.\u001b[39m_setattr_cm(\u001b[39mself\u001b[39m\u001b[39m.\u001b[39mfigure, dpi\u001b[39m=\u001b[39mdpi):\n\u001b[1;32m-> 2366\u001b[0m         result \u001b[39m=\u001b[39m print_method(\n\u001b[0;32m   2367\u001b[0m             filename,\n\u001b[0;32m   2368\u001b[0m             facecolor\u001b[39m=\u001b[39;49mfacecolor,\n\u001b[0;32m   2369\u001b[0m             edgecolor\u001b[39m=\u001b[39;49medgecolor,\n\u001b[0;32m   2370\u001b[0m             orientation\u001b[39m=\u001b[39;49morientation,\n\u001b[0;32m   2371\u001b[0m             bbox_inches_restore\u001b[39m=\u001b[39;49m_bbox_inches_restore,\n\u001b[0;32m   2372\u001b[0m             \u001b[39m*\u001b[39;49m\u001b[39m*\u001b[39;49mkwargs)\n\u001b[0;32m   2373\u001b[0m \u001b[39mfinally\u001b[39;00m:\n\u001b[0;32m   2374\u001b[0m     \u001b[39mif\u001b[39;00m bbox_inches \u001b[39mand\u001b[39;00m restore_bbox:\n",
      "File \u001b[1;32mc:\\Users\\pande\\anaconda3\\envs\\tensorflow\\Lib\\site-packages\\matplotlib\\backend_bases.py:2232\u001b[0m, in \u001b[0;36mFigureCanvasBase._switch_canvas_and_return_print_method.<locals>.<lambda>\u001b[1;34m(*args, **kwargs)\u001b[0m\n\u001b[0;32m   2228\u001b[0m     optional_kws \u001b[39m=\u001b[39m {  \u001b[39m# Passed by print_figure for other renderers.\u001b[39;00m\n\u001b[0;32m   2229\u001b[0m         \u001b[39m\"\u001b[39m\u001b[39mdpi\u001b[39m\u001b[39m\"\u001b[39m, \u001b[39m\"\u001b[39m\u001b[39mfacecolor\u001b[39m\u001b[39m\"\u001b[39m, \u001b[39m\"\u001b[39m\u001b[39medgecolor\u001b[39m\u001b[39m\"\u001b[39m, \u001b[39m\"\u001b[39m\u001b[39morientation\u001b[39m\u001b[39m\"\u001b[39m,\n\u001b[0;32m   2230\u001b[0m         \u001b[39m\"\u001b[39m\u001b[39mbbox_inches_restore\u001b[39m\u001b[39m\"\u001b[39m}\n\u001b[0;32m   2231\u001b[0m     skip \u001b[39m=\u001b[39m optional_kws \u001b[39m-\u001b[39m {\u001b[39m*\u001b[39minspect\u001b[39m.\u001b[39msignature(meth)\u001b[39m.\u001b[39mparameters}\n\u001b[1;32m-> 2232\u001b[0m     print_method \u001b[39m=\u001b[39m functools\u001b[39m.\u001b[39mwraps(meth)(\u001b[39mlambda\u001b[39;00m \u001b[39m*\u001b[39margs, \u001b[39m*\u001b[39m\u001b[39m*\u001b[39mkwargs: meth(\n\u001b[0;32m   2233\u001b[0m         \u001b[39m*\u001b[39;49margs, \u001b[39m*\u001b[39;49m\u001b[39m*\u001b[39;49m{k: v \u001b[39mfor\u001b[39;49;00m k, v \u001b[39min\u001b[39;49;00m kwargs\u001b[39m.\u001b[39;49mitems() \u001b[39mif\u001b[39;49;00m k \u001b[39mnot\u001b[39;49;00m \u001b[39min\u001b[39;49;00m skip}))\n\u001b[0;32m   2234\u001b[0m \u001b[39melse\u001b[39;00m:  \u001b[39m# Let third-parties do as they see fit.\u001b[39;00m\n\u001b[0;32m   2235\u001b[0m     print_method \u001b[39m=\u001b[39m meth\n",
      "File \u001b[1;32mc:\\Users\\pande\\anaconda3\\envs\\tensorflow\\Lib\\site-packages\\matplotlib\\backends\\backend_agg.py:509\u001b[0m, in \u001b[0;36mFigureCanvasAgg.print_png\u001b[1;34m(self, filename_or_obj, metadata, pil_kwargs)\u001b[0m\n\u001b[0;32m    462\u001b[0m \u001b[39mdef\u001b[39;00m \u001b[39mprint_png\u001b[39m(\u001b[39mself\u001b[39m, filename_or_obj, \u001b[39m*\u001b[39m, metadata\u001b[39m=\u001b[39m\u001b[39mNone\u001b[39;00m, pil_kwargs\u001b[39m=\u001b[39m\u001b[39mNone\u001b[39;00m):\n\u001b[0;32m    463\u001b[0m \u001b[39m    \u001b[39m\u001b[39m\"\"\"\u001b[39;00m\n\u001b[0;32m    464\u001b[0m \u001b[39m    Write the figure to a PNG file.\u001b[39;00m\n\u001b[0;32m    465\u001b[0m \n\u001b[1;32m   (...)\u001b[0m\n\u001b[0;32m    507\u001b[0m \u001b[39m        *metadata*, including the default 'Software' key.\u001b[39;00m\n\u001b[0;32m    508\u001b[0m \u001b[39m    \"\"\"\u001b[39;00m\n\u001b[1;32m--> 509\u001b[0m     \u001b[39mself\u001b[39;49m\u001b[39m.\u001b[39;49m_print_pil(filename_or_obj, \u001b[39m\"\u001b[39;49m\u001b[39mpng\u001b[39;49m\u001b[39m\"\u001b[39;49m, pil_kwargs, metadata)\n",
      "File \u001b[1;32mc:\\Users\\pande\\anaconda3\\envs\\tensorflow\\Lib\\site-packages\\matplotlib\\backends\\backend_agg.py:458\u001b[0m, in \u001b[0;36mFigureCanvasAgg._print_pil\u001b[1;34m(self, filename_or_obj, fmt, pil_kwargs, metadata)\u001b[0m\n\u001b[0;32m    453\u001b[0m \u001b[39m\u001b[39m\u001b[39m\"\"\"\u001b[39;00m\n\u001b[0;32m    454\u001b[0m \u001b[39mDraw the canvas, then save it using `.image.imsave` (to which\u001b[39;00m\n\u001b[0;32m    455\u001b[0m \u001b[39m*pil_kwargs* and *metadata* are forwarded).\u001b[39;00m\n\u001b[0;32m    456\u001b[0m \u001b[39m\"\"\"\u001b[39;00m\n\u001b[0;32m    457\u001b[0m FigureCanvasAgg\u001b[39m.\u001b[39mdraw(\u001b[39mself\u001b[39m)\n\u001b[1;32m--> 458\u001b[0m mpl\u001b[39m.\u001b[39;49mimage\u001b[39m.\u001b[39;49mimsave(\n\u001b[0;32m    459\u001b[0m     filename_or_obj, \u001b[39mself\u001b[39;49m\u001b[39m.\u001b[39;49mbuffer_rgba(), \u001b[39mformat\u001b[39;49m\u001b[39m=\u001b[39;49mfmt, origin\u001b[39m=\u001b[39;49m\u001b[39m\"\u001b[39;49m\u001b[39mupper\u001b[39;49m\u001b[39m\"\u001b[39;49m,\n\u001b[0;32m    460\u001b[0m     dpi\u001b[39m=\u001b[39;49m\u001b[39mself\u001b[39;49m\u001b[39m.\u001b[39;49mfigure\u001b[39m.\u001b[39;49mdpi, metadata\u001b[39m=\u001b[39;49mmetadata, pil_kwargs\u001b[39m=\u001b[39;49mpil_kwargs)\n",
      "File \u001b[1;32mc:\\Users\\pande\\anaconda3\\envs\\tensorflow\\Lib\\site-packages\\matplotlib\\image.py:1689\u001b[0m, in \u001b[0;36mimsave\u001b[1;34m(fname, arr, vmin, vmax, cmap, format, origin, dpi, metadata, pil_kwargs)\u001b[0m\n\u001b[0;32m   1687\u001b[0m pil_kwargs\u001b[39m.\u001b[39msetdefault(\u001b[39m\"\u001b[39m\u001b[39mformat\u001b[39m\u001b[39m\"\u001b[39m, \u001b[39mformat\u001b[39m)\n\u001b[0;32m   1688\u001b[0m pil_kwargs\u001b[39m.\u001b[39msetdefault(\u001b[39m\"\u001b[39m\u001b[39mdpi\u001b[39m\u001b[39m\"\u001b[39m, (dpi, dpi))\n\u001b[1;32m-> 1689\u001b[0m image\u001b[39m.\u001b[39;49msave(fname, \u001b[39m*\u001b[39;49m\u001b[39m*\u001b[39;49mpil_kwargs)\n",
      "File \u001b[1;32mc:\\Users\\pande\\anaconda3\\envs\\tensorflow\\Lib\\site-packages\\PIL\\Image.py:2410\u001b[0m, in \u001b[0;36mImage.save\u001b[1;34m(self, fp, format, **params)\u001b[0m\n\u001b[0;32m   2408\u001b[0m         fp \u001b[39m=\u001b[39m builtins\u001b[39m.\u001b[39mopen(filename, \u001b[39m\"\u001b[39m\u001b[39mr+b\u001b[39m\u001b[39m\"\u001b[39m)\n\u001b[0;32m   2409\u001b[0m     \u001b[39melse\u001b[39;00m:\n\u001b[1;32m-> 2410\u001b[0m         fp \u001b[39m=\u001b[39m builtins\u001b[39m.\u001b[39;49mopen(filename, \u001b[39m\"\u001b[39;49m\u001b[39mw+b\u001b[39;49m\u001b[39m\"\u001b[39;49m)\n\u001b[0;32m   2412\u001b[0m \u001b[39mtry\u001b[39;00m:\n\u001b[0;32m   2413\u001b[0m     save_handler(\u001b[39mself\u001b[39m, fp, filename)\n",
      "\u001b[1;31mFileNotFoundError\u001b[0m: [Errno 2] No such file or directory: 'figure/MoG_real.png'"
     ]
    },
    {
     "data": {
      "image/png": "[encoded data removed]",
      "text/plain": [
       "<Figure size 640x480 with 1 Axes>"
      ]
     },
     "metadata": {},
     "output_type": "display_data"
    }
   ],
   "source": [
    "transform_mat_45=np.array([[2**0.5, 2**0.5],[2**-0.5, -2**-0.5]]).astype(np.float32)\n",
    "transform_mat_0=np.array([[1.0, 0.0],[0.0, 1.0]]).astype(np.float32)\n",
    "transform_mat_1_dim=np.array([[1, 0],[0, 0.01]]).astype(np.float32)\n",
    "\n",
    "\n",
    "def data_generation_Gaussian(batch_size=10, transform_mat=transform_mat_0):\n",
    "    Gaussian=np.random.normal(0, 1, [batch_size, 2]).astype(np.float32)\n",
    "    return np.dot(Gaussian, transform_mat)\n",
    "\n",
    "def data_generation_uniform(batch_size=10, dim=2):\n",
    "    Uniform=np.random.uniform(-1,1,[batch_size, dim]).astype(np.float32)*2**0.5\n",
    "    return Uniform\n",
    "\n",
    "def data_generation_circle(batch_size=1, portion=1):\n",
    "    r=np.random.uniform(0, 2*np.pi*portion, [batch_size])\n",
    "    \n",
    "    Circle_cos=np.cos(r)\n",
    "    Circle_sin=np.sin(r)\n",
    "    Circle=np.stack([Circle_cos,Circle_sin], axis=1).astype(np.float32)*2\n",
    "    return Circle\n",
    "\n",
    "def data_generation_MoG(batch_size=10):\n",
    "    Gaussian_1=np.random.normal(0, 0.3, [int(batch_size/2), 2]).astype(np.float32)\n",
    "    Gaussian_1[:,0]-=2\n",
    "    Gaussian_2=np.random.normal(0, 0.3, [int(batch_size/2), 2]).astype(np.float32)\n",
    "    Gaussian_2[:,0]+=2\n",
    "    return np.concatenate([Gaussian_1, Gaussian_2])\n",
    "\n",
    "def data_generation(batch_size=10, seed=0):\n",
    "    if seed!=0:\n",
    "        np.random.seed(seed)\n",
    "    return data_generation_MoG(batch_size=batch_size)\n",
    "    #return data_generation_Gaussian(batch_size=batch_size)\n",
    "\n",
    "X_data=data_generation(1000)\n",
    "fig = plt.figure(frameon=False)\n",
    "plt.plot(X_data[:,0], X_data[:,1], '.')\n",
    "plt.axis([-4.5,4.5, -3, 3])\n",
    "plt.xticks([])\n",
    "plt.yticks([])\n",
    "fig.savefig('figure/MoG_real.png', bbox_inches = 'tight',\n",
    "    pad_inches = 0) #!\n"
   ]
  },
  {
   "cell_type": "code",
   "execution_count": 10,
   "metadata": {},
   "outputs": [
    {
     "data": {
      "text/plain": [
       "-3.85796"
      ]
     },
     "execution_count": 10,
     "metadata": {},
     "output_type": "execute_result"
    }
   ],
   "source": [
    "logP_record = tf.keras.metrics.Mean(name='logP')\n",
    "\n",
    "def reparameterize_multi(mean, logvar, num=10):\n",
    "    shape=mean.shape\n",
    "    shape_new=[mean.shape[0], num]\n",
    "    for i in range(1, len(shape)):\n",
    "        shape_new.append(shape[i])\n",
    "    eps = tf.random.normal(shape=shape_new)   \n",
    "    return eps * tf.exp(tf.expand_dims(logvar, axis=1) * .5) + tf.expand_dims(mean, axis=1)\n",
    "    \n",
    "def log_normal_pdf(sample, mean, logvar, raxis=1):\n",
    "    log2pi = tf.math.log(2. * np.pi)\n",
    "    return tf.reduce_sum(-.5 * ((sample - mean) ** 2. * tf.exp(-logvar) + logvar + log2pi), axis=raxis)\n",
    "\n",
    "def compute_log_P(x, num=10):\n",
    "    x_shape = x.shape\n",
    "    z_x_info = encoder(x)\n",
    "    mean=z_x_info[:,:z_size]\n",
    "    logvar=z_x_info[:,z_size:]\n",
    "\n",
    "    z = reparameterize_multi(mean, logvar, num)\n",
    "    mean_multi=tf.tile(tf.expand_dims(mean, axis=1), multiples=[1,num,1])\n",
    "    log_var_multi=tf.tile(tf.expand_dims(logvar, axis=1), multiples=[1,num,1])\n",
    "    z_logprob_in_log_z_x=log_normal_pdf(z, mean_multi, log_var_multi, raxis=-1)\n",
    "    \n",
    "    if not Vamp:\n",
    "        z_logprob_in_log_z=log_normal_pdf(z, mean_multi*0, log_var_multi*0, raxis=-1)\n",
    "    else:\n",
    "        pseduo_z_x_info = encoder(pseduo_input)\n",
    "        pseduo_z_x_mean = pseduo_z_x_info[:,:z_size]\n",
    "        pseduo_z_x_log_var = pseduo_z_x_info[:,z_size:]\n",
    "        z_reshape=tf.reshape(z, [-1,z_size])\n",
    "        \n",
    "        z_logprob_in_log_z=logP_MoG(z_reshape, pseduo_z_x_mean, pseduo_z_x_log_var)\n",
    "        z_logprob_in_log_z=tf.reshape(z_logprob_in_log_z, [-1, num])\n",
    "    \n",
    "    logratio=z_logprob_in_log_z-z_logprob_in_log_z_x\n",
    "\n",
    "    z_reshape = tf.reshape(z, [-1, z.shape[-1]])\n",
    "                    \n",
    "    x_z_info=decoder(z_reshape)\n",
    "    x_z_mean=x_z_info[:,:x_size]\n",
    "    x_z_logvar=x_z_info[:,x_size:]\n",
    "    x_z_mean=tf.reshape(x_z_mean, [-1, num, x_shape[1]])\n",
    "    x_z_logvar=tf.reshape(x_z_logvar, [-1, num, x_shape[1]])\n",
    "    \n",
    "    x_multi=tf.tile(tf.expand_dims(x,1),multiples=[1,num,1])\n",
    "    logP_x_z=log_normal_pdf(x_multi, x_z_mean, x_z_logvar, raxis=-1)\n",
    "    logP_pre=logP_x_z+logratio\n",
    "    logP_pre_max=tf.reduce_max(logP_pre, axis=1)\n",
    "    logP_pre_sub=logP_pre-tf.expand_dims(logP_pre_max, axis=1)\n",
    "    logP_x=tf.math.log(tf.reduce_mean(tf.exp(logP_pre_sub), axis=1))+logP_pre_max\n",
    "    logP_record(logP_x)\n",
    "\n",
    "def logP_epoch(data_generation_function, num, sample_size):\n",
    "    logP_record.reset_states()\n",
    "    i=0\n",
    "    while True:\n",
    "        test_x=data_generation_function(batch_size=10, seed=101)\n",
    "        compute_log_P(test_x, num)\n",
    "        i+=test_x.shape[0]\n",
    "        if i>=sample_size:\n",
    "            break\n",
    "    return logP_record.result().numpy()\n",
    "logP_epoch(data_generation, 500, 2000)"
   ]
  },
  {
   "cell_type": "code",
   "execution_count": 11,
   "metadata": {},
   "outputs": [
    {
     "name": "stdout",
     "output_type": "stream",
     "text": [
      "Epoch 1, ELBO:-4.40833044052124, reconstruct: -3.984978199005127, KL: 0.42335277795791626\n",
      "Epoch 101, ELBO:-0.3369974195957184, reconstruct: 1.1374232769012451, KL: 1.4744206666946411\n",
      "Epoch 201, ELBO:0.8563457727432251, reconstruct: 3.1326215267181396, KL: 2.276275873184204\n",
      "Epoch 301, ELBO:1.3319615125656128, reconstruct: 4.0331130027771, KL: 2.7011516094207764\n",
      "Epoch 401, ELBO:1.0191900730133057, reconstruct: 3.978713274002075, KL: 2.9595229625701904\n",
      "Epoch 501, ELBO:2.20698881149292, reconstruct: 5.586716651916504, KL: 3.379727840423584\n",
      "Epoch 601, ELBO:2.418099880218506, reconstruct: 6.002930641174316, KL: 3.5848305225372314\n",
      "Epoch 701, ELBO:2.761425495147705, reconstruct: 6.945574760437012, KL: 4.184149265289307\n",
      "Epoch 801, ELBO:3.2679443359375, reconstruct: 8.079511642456055, KL: 4.811566352844238\n",
      "Epoch 901, ELBO:3.3184380531311035, reconstruct: 8.406946182250977, KL: 5.088507175445557\n",
      "Epoch 1001, ELBO:3.4619929790496826, reconstruct: 9.062516212463379, KL: 5.600522041320801\n"
     ]
    }
   ],
   "source": [
    "EPOCHS = 2000\n",
    "beta=1\n",
    "for epoch in range(EPOCHS):\n",
    "    reconstruction_logprob_record.reset_states()\n",
    "    KL_term_record.reset_states()\n",
    "    ELBO_record.reset_states()\n",
    "\n",
    "    for i in range(10):    \n",
    "        X_data=data_generation()\n",
    "        train_step(X_data, beta=beta)\n",
    "\n",
    "    template = 'Epoch {}, ELBO:{}, reconstruct: {}, KL: {}'\n",
    "    if epoch%100==0:\n",
    "        print (template.format(epoch+1,\n",
    "                          ELBO_record.result(), \n",
    "                          reconstruction_logprob_record.result(),\n",
    "                          KL_term_record.result()))"
   ]
  },
  {
   "cell_type": "code",
   "execution_count": null,
   "metadata": {},
   "outputs": [],
   "source": [
    "logP_epoch(data_generation, 500, 2000)"
   ]
  },
  {
   "cell_type": "code",
   "execution_count": null,
   "metadata": {},
   "outputs": [],
   "source": [
    "def generate_from_MoG(batch_size, mean, log_var):\n",
    "    samples=[]\n",
    "    batch_size_each_component=batch_size//mean.shape[0]\n",
    "    for i in range(mean.shape[0]):\n",
    "        sample=np.random.normal(0, 1, [batch_size_each_component, mean.shape[1]]).astype(np.float32)\n",
    "        sample=sample*np.exp(log_var[i]*0.5)+mean[i]\n",
    "        samples.append(sample)\n",
    "    samples=np.concatenate(samples, axis=0)\n",
    "    return samples"
   ]
  },
  {
   "cell_type": "code",
   "execution_count": null,
   "metadata": {},
   "outputs": [],
   "source": [
    "if not Vamp:\n",
    "    Z_data=data_generation_Gaussian(200, transform_mat=transform_mat_0)\n",
    "else:\n",
    "    pseduo_z_x_info = encoder(pseduo_input)\n",
    "    pseduo_z_x_mean = pseduo_z_x_info[:,:z_size]\n",
    "    pseduo_z_x_log_var = pseduo_z_x_info[:,z_size:]\n",
    "    Z_data=generate_from_MoG(200, pseduo_z_x_mean, pseduo_z_x_log_var)\n",
    "x_z_info = decoder(Z_data)\n",
    "x_z_mean=x_z_info[:,:x_size]\n",
    "x_z_log_var=x_z_info[:,x_size:]\n",
    "x_z_std=np.exp(x_z_log_var/2)\n",
    "samples=sample(x_z_mean, x_z_log_var)\n",
    "\n",
    "fig = plt.figure(frameon=False)\n",
    "plt.plot(samples[:,0], samples[:,1], '.')\n",
    "plt.axis([-4.5,4.5, -3, 3])\n",
    "plt.xticks([])\n",
    "plt.yticks([])\n",
    "#fig.savefig('figure/cluster_vamp.pdf', bbox_inches = 'tight',\n",
    "#    pad_inches = 0)"
   ]
  },
  {
   "cell_type": "code",
   "execution_count": null,
   "metadata": {},
   "outputs": [],
   "source": [
    "print(\"Shweta has run the code\")"
   ]
  },
  {
   "cell_type": "code",
   "execution_count": null,
   "metadata": {},
   "outputs": [],
   "source": []
  }
 ],
 "metadata": {
  "kernelspec": {
   "display_name": "Python 3",
   "language": "python",
   "name": "python3"
  },
  "language_info": {
   "codemirror_mode": {
    "name": "ipython",
    "version": 3
   },
   "file_extension": ".py",
   "mimetype": "text/x-python",
   "name": "python",
   "nbconvert_exporter": "python",
   "pygments_lexer": "ipython3",
   "version": "3.11.5"
  }
 },
 "nbformat": 4,
 "nbformat_minor": 4
}
